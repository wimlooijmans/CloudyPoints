{
 "cells": [
  {
   "cell_type": "markdown",
   "metadata": {},
   "source": [
    "# Exploratory Data Analysis (EDA)"
   ]
  },
  {
   "cell_type": "code",
   "execution_count": null,
   "metadata": {},
   "outputs": [],
   "source": [
    "from pathlib import Path\n",
    "import csv\n",
    "import pandas as pd"
   ]
  },
  {
   "cell_type": "markdown",
   "metadata": {},
   "source": [
    "## Dataset"
   ]
  },
  {
   "cell_type": "markdown",
   "metadata": {},
   "source": [
    "Create manually a paths.csv file in /data that contains on each the absolute path to a dataset:\\\n",
    "DatasetName,PathToDataset\n",
    "\n",
    "The csv is read in"
   ]
  },
  {
   "cell_type": "code",
   "execution_count": null,
   "metadata": {},
   "outputs": [],
   "source": [
    "paths_to_data = {}\n",
    "\n",
    "with open('data/paths.csv', newline='') as csvfile:\n",
    "    pathsreader = csv.reader(csvfile, delimiter=';')\n",
    "    for row in pathsreader:\n",
    "        paths_to_data[row[0]] = Path(row[1])"
   ]
  },
  {
   "cell_type": "markdown",
   "metadata": {},
   "source": [
    "Set paths"
   ]
  },
  {
   "cell_type": "code",
   "execution_count": null,
   "metadata": {},
   "outputs": [],
   "source": [
    "path_cityscapes = paths_to_data[\"Cityscapes\"]\n",
    "path_cityscapes_leftImg8bit = path_cityscapes / 'leftImg8bit_trainvaltest (11GB)' / 'leftImg8bit'\n",
    "path_cityscapes_rightImg8bit = path_cityscapes / 'rightImg8bit_trainvaltest (11GB)' / 'rightImg8bit'\n",
    "path_cityscapes_disparity = path_cityscapes / 'disparity_trainvaltest (3.5GB)'\n",
    "\n",
    "path_train = path_cityscapes_leftImg8bit / 'train'\n",
    "path_val = path_cityscapes_leftImg8bit / 'val'\n",
    "path_test = path_cityscapes_leftImg8bit / 'test'"
   ]
  },
  {
   "cell_type": "code",
   "execution_count": 70,
   "metadata": {},
   "outputs": [],
   "source": [
    "def explore_set(path_set):\n",
    "    \"\"\"\n",
    "    Returns a dataframe with the cities and number of images for each city \n",
    "    for the given dataset\n",
    "    \n",
    "    Args:\n",
    "        path_set: path to the dataset split\n",
    "        \n",
    "    Returns:\n",
    "        A pandas dataframe with two columns:\n",
    "        - Cities\n",
    "        - Number of images\n",
    "    \"\"\"\n",
    "\n",
    "    cities = [x.stem for x in path_set.iterdir() if x.is_dir()]\n",
    "    number_of_images = []\n",
    "\n",
    "    for city in cities:\n",
    "        path_city = path_set / city\n",
    "        number_of_images.append(len(list(path_city.glob('*.png'))))\n",
    "\n",
    "    dict = {'City': cities, 'Number of images': number_of_images}\n",
    "    df = pd.DataFrame(dict)\n",
    "\n",
    "    return df"
   ]
  },
  {
   "cell_type": "code",
   "execution_count": 71,
   "metadata": {},
   "outputs": [],
   "source": [
    "df_num_cities_train = explore_set(path_train)\n",
    "df_num_cities_val = explore_set(path_val)\n",
    "df_num_cities_test = explore_set(path_test)"
   ]
  },
  {
   "cell_type": "code",
   "execution_count": 73,
   "metadata": {},
   "outputs": [
    {
     "name": "stdout",
     "output_type": "stream",
     "text": [
      "Total number of images:\n",
      "Training set:  2975\n",
      "Validation set:  500\n",
      "Test set:  1525\n"
     ]
    }
   ],
   "source": [
    "print('Total number of images:')\n",
    "print(\"Training set: \", df_num_cities_train['Number of images'].sum())\n",
    "print(\"Validation set: \", df_num_cities_val['Number of images'].sum())\n",
    "print(\"Test set: \", df_num_cities_test['Number of images'].sum())"
   ]
  },
  {
   "cell_type": "code",
   "execution_count": 77,
   "metadata": {},
   "outputs": [
    {
     "data": {
      "text/plain": [
       "City                6\n",
       "Number of images    6\n",
       "dtype: int64"
      ]
     },
     "execution_count": 77,
     "metadata": {},
     "output_type": "execute_result"
    }
   ],
   "source": [
    "df_num_cities_test.count()"
   ]
  },
  {
   "cell_type": "code",
   "execution_count": 79,
   "metadata": {},
   "outputs": [],
   "source": [
    "import tabulate"
   ]
  },
  {
   "cell_type": "code",
   "execution_count": 92,
   "metadata": {},
   "outputs": [
    {
     "name": "stdout",
     "output_type": "stream",
     "text": [
      "| City            |   Number of images |\n",
      "|-----------------|--------------------|\n",
      "| aachen          |                174 |\n",
      "| bochum          |                 96 |\n",
      "| bremen          |                316 |\n",
      "| cologne         |                154 |\n",
      "| darmstadt       |                 85 |\n",
      "| dusseldorf      |                221 |\n",
      "| erfurt          |                109 |\n",
      "| hamburg         |                248 |\n",
      "| hanover         |                196 |\n",
      "| jena            |                119 |\n",
      "| krefeld         |                 99 |\n",
      "| monchengladbach |                 94 |\n",
      "| strasbourg      |                365 |\n",
      "| stuttgart       |                196 |\n",
      "| tubingen        |                144 |\n",
      "| ulm             |                 95 |\n",
      "| weimar          |                142 |\n",
      "| zurich          |                122 |\n",
      "\n",
      "| City      |   Number of images |\n",
      "|-----------|--------------------|\n",
      "| frankfurt |                267 |\n",
      "| lindau    |                 59 |\n",
      "| munster   |                174 |\n",
      "\n",
      "| City       |   Number of images |\n",
      "|------------|--------------------|\n",
      "| berlin     |                544 |\n",
      "| bielefeld  |                181 |\n",
      "| bonn       |                 46 |\n",
      "| leverkusen |                 58 |\n",
      "| mainz      |                298 |\n",
      "| munich     |                398 |\n"
     ]
    }
   ],
   "source": [
    "print(df_num_cities_train.to_markdown(index=False,tablefmt=\"github\"))\n",
    "print()\n",
    "print(df_num_cities_val.to_markdown(index=False,tablefmt=\"github\"))\n",
    "print()\n",
    "print(df_num_cities_test.to_markdown(index=False,tablefmt=\"github\"))"
   ]
  },
  {
   "cell_type": "code",
   "execution_count": null,
   "metadata": {},
   "outputs": [],
   "source": []
  }
 ],
 "metadata": {
  "kernelspec": {
   "display_name": "DepthEstimationKeras",
   "language": "python",
   "name": "python3"
  },
  "language_info": {
   "codemirror_mode": {
    "name": "ipython",
    "version": 3
   },
   "file_extension": ".py",
   "mimetype": "text/x-python",
   "name": "python",
   "nbconvert_exporter": "python",
   "pygments_lexer": "ipython3",
   "version": "3.12.9"
  }
 },
 "nbformat": 4,
 "nbformat_minor": 2
}
